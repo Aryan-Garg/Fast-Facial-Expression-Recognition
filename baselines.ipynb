{
 "cells": [
  {
   "cell_type": "markdown",
   "metadata": {},
   "source": [
    "# FastAI for fast baselines   \n",
    "\n",
    "\n",
    "*Baselines fine-tuned using the best hparams in this NB:* \n",
    "1. Resnet-34 (used here as well)\n",
    "2. Resnet50\n",
    "3. Resnet101\n",
    "4. VGG-16_bn\n",
    "5. VGG-19_bn\n",
    "6. visformer_small\n",
    "7. vit_base_patch16_224\n",
    "8. vit_base_r50_s16_224\n",
    "\n",
    "> All methods are run for 50 epochs"
   ]
  },
  {
   "cell_type": "code",
   "execution_count": 13,
   "metadata": {},
   "outputs": [],
   "source": [
    "import os"
   ]
  },
  {
   "cell_type": "code",
   "execution_count": 14,
   "metadata": {},
   "outputs": [
    {
     "name": "stdout",
     "output_type": "stream",
     "text": [
      "Args: Namespace(epochs=100, batch_size=64, learning_rate=0.01)\n",
      "[+] Dataloader vocab: ['Angry', 'Disgust', 'Fear', 'Happy', 'Neutral', 'Sad', 'Surprise']\n",
      "[+] Fine tuning...\n",
      "lr_find (min, steep, valley, slide): 0.005754399299621582 9.999999747378752e-06 0.0014454397605732083 0.00363078061491251\n",
      "epoch     train_loss  valid_loss  error_rate  time    \n",
      "Epoch 1/1 : |███████---------------------------------| 19.10% [85/445 00:09<00:39 2.7517]\r"
     ]
    },
    {
     "name": "stdout",
     "output_type": "stream",
     "text": [
      "Epoch 1/1 : |██████████------------------------------| 25.17% [112/445 00:11<00:34 2.6303]\r"
     ]
    }
   ],
   "source": [
    "os.system(\"./models/resnet34.py -e 50 -b 64 -l 1e-2\")"
   ]
  },
  {
   "cell_type": "code",
   "execution_count": null,
   "metadata": {},
   "outputs": [],
   "source": [
    "os.system(\"./models/resnet50.py -e 50 -b 64 -l 1e-2\")"
   ]
  },
  {
   "cell_type": "code",
   "execution_count": null,
   "metadata": {},
   "outputs": [],
   "source": [
    "os.system(\"./models/resnet101.py -e 50 -b 64 -l 1e-2\")"
   ]
  },
  {
   "cell_type": "code",
   "execution_count": null,
   "metadata": {},
   "outputs": [],
   "source": [
    "os.system(\"./models/vgg16.py -e 50 -b 64 -l 1e-2\")"
   ]
  },
  {
   "cell_type": "code",
   "execution_count": null,
   "metadata": {},
   "outputs": [],
   "source": [
    "os.system(\"./models/vgg19.py -e 50 -b 64 -l 1e-2\")"
   ]
  },
  {
   "cell_type": "code",
   "execution_count": null,
   "metadata": {},
   "outputs": [],
   "source": [
    "os.system(\"./models/visformer_small.py -e 50 -b 64 -l 1e-2\")"
   ]
  },
  {
   "cell_type": "code",
   "execution_count": null,
   "metadata": {},
   "outputs": [],
   "source": [
    "os.system(\"./models/vit_base_patch16_224.py -e 50 -b 64 -l 1e-2\")"
   ]
  },
  {
   "cell_type": "code",
   "execution_count": null,
   "metadata": {},
   "outputs": [],
   "source": [
    "os.system(\"./models/vit_base_r50_s16_224.py -e 50 -b 64 -l 1e-2\")"
   ]
  }
 ],
 "metadata": {
  "kernelspec": {
   "display_name": "minerva",
   "language": "python",
   "name": "python3"
  },
  "language_info": {
   "codemirror_mode": {
    "name": "ipython",
    "version": 3
   },
   "file_extension": ".py",
   "mimetype": "text/x-python",
   "name": "python",
   "nbconvert_exporter": "python",
   "pygments_lexer": "ipython3",
   "version": "3.9.17"
  },
  "orig_nbformat": 4
 },
 "nbformat": 4,
 "nbformat_minor": 2
}
