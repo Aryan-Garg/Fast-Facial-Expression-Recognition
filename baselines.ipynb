{
 "cells": [
  {
   "cell_type": "markdown",
   "metadata": {},
   "source": [
    "# FastAI for fast baselines"
   ]
  },
  {
   "cell_type": "markdown",
   "metadata": {},
   "source": [
    "## Imports"
   ]
  },
  {
   "cell_type": "code",
   "execution_count": null,
   "metadata": {},
   "outputs": [],
   "source": []
  },
  {
   "cell_type": "markdown",
   "metadata": {},
   "source": [
    "## Models"
   ]
  },
  {
   "cell_type": "code",
   "execution_count": null,
   "metadata": {},
   "outputs": [],
   "source": [
    "# learn_resnet34 = vision_learner(dls, \"resnet34\", metrics=error_rate)\n",
    "# learn_resnet50 = vision_learner(dls, \"resnet50\", metrics=error_rate)\n",
    "# learn_resnet101 = vision_learner(dls, \"resnet101\", metrics=error_rate)\n",
    "\n",
    "# learn_vgg16 = vision_learner(dls, \"vgg16\", metrics=error_rate)\n",
    "# learn_vgg19 = vision_learner(dls, \"vgg19\", metrics=error_rate)\n",
    "\n",
    "# learn_visformer_small = vision_learner(dls, \"visformer_small\", metrics=error_rate)\n",
    "\n",
    "# learn_vit_base_patch16_224 = vision_learner(dls, \"vit_base_patch16_224\", metrics=error_rate)\n",
    "# learn_vit_base_r50_s16_224 = vision_learner(dls, \"vit_base_r50_s16_224\", metrics=error_rate)\n",
    "\n",
    "# learn_swin_patch4_window7_224 = vision_learner(dls, \"swin_patch4_window7_224\", metrics=error_rate)"
   ]
  }
 ],
 "metadata": {
  "language_info": {
   "name": "python"
  },
  "orig_nbformat": 4
 },
 "nbformat": 4,
 "nbformat_minor": 2
}
