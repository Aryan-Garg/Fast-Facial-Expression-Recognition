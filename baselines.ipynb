{
 "cells": [
  {
   "cell_type": "markdown",
   "metadata": {},
   "source": [
    "# FastAI for fast baselines   \n",
    "\n",
    "\n",
    "*Baselines fine-tuned using the best hparams in this NB:* \n",
    "1. Resnet-34 (used here as well)\n",
    "2. Resnet50\n",
    "3. Resnet101\n",
    "4. VGG-16_bn\n",
    "5. VGG-19_bn\n",
    "6. visformer_small\n",
    "7. vit_base_patch16_224\n",
    "8. vit_base_r50_s16_224\n",
    "\n",
    "> All methods are run for 50 epochs"
   ]
  },
  {
   "cell_type": "code",
   "execution_count": 1,
   "metadata": {},
   "outputs": [],
   "source": [
    "import os"
   ]
  },
  {
   "cell_type": "code",
   "execution_count": 2,
   "metadata": {},
   "outputs": [
    {
     "name": "stdout",
     "output_type": "stream",
     "text": [
      "Args: Namespace(epochs=50, batch_size=64, learning_rate=0.01)\n",
      "[+] Dataloader vocab: ['Angry', 'Disgust', 'Fear', 'Happy', 'Neutral', 'Sad', 'Surprise']\n",
      "[+] Fine tuning...\n",
      "lr_find (min, steep, valley, slide): 0.005754399299621582 1.3182567499825382e-06 0.00363078061491251 0.004365158267319202\n",
      "epoch     train_loss  valid_loss  error_rate  time    \n",
      "0         1.811954    1.648798    0.627946    00:52                                        \n",
      "epoch     train_loss  valid_loss  error_rate  time    \n",
      "0         1.530274    1.480028    0.577301    00:53                                         \n",
      "1         1.454394    1.430509    0.552750    00:53                                         \n",
      "2         1.388143    1.384258    0.536055    00:53                                         \n",
      "3         1.336675    1.353845    0.519781    00:54                                         \n",
      "4         1.282141    1.326968    0.509961    00:54                                         \n",
      "5         1.245207    1.290643    0.503507    00:54                                         \n",
      "6         1.176043    1.265336    0.490460    00:54                                         \n",
      "7         1.115602    1.266639    0.476010    00:54                                         \n",
      "8         1.085217    1.239141    0.470398    00:54                                         \n",
      "9         1.020449    1.227097    0.463664    00:54                                          \n",
      "10        0.984454    1.246442    0.466470    00:54                                          \n",
      "11        0.911658    1.208718    0.447952    00:54                                          \n",
      "12        0.846741    1.236620    0.446829    00:54                                          \n",
      "13        0.817814    1.239828    0.447952    00:54                                          \n",
      "14        0.759074    1.291919    0.450898    00:54                                          \n",
      "15        0.697841    1.306388    0.442059    00:54                                          \n",
      "16        0.613665    1.375418    0.442340    00:54                                          \n",
      "17        0.565842    1.426543    0.441639    00:54                                          \n",
      "18        0.492421    1.509018    0.436728    00:54                                          \n",
      "19        0.454378    1.617145    0.436308    00:54                                          \n",
      "20        0.403829    1.752114    0.442761    00:54                                          \n",
      "21        0.353611    1.785557    0.435466    00:54                                          \n",
      "22        0.320610    1.830815    0.430836    00:54                                          \n",
      "23        0.283187    1.897207    0.432660    00:54                                          \n",
      "24        0.248106    1.970134    0.430836    00:54                                          \n",
      "25        0.216894    2.126565    0.429433    00:54                                          \n",
      "26        0.204766    2.189255    0.423120    00:54                                          \n",
      "27        0.192718    2.258558    0.423541    00:54                                          \n",
      "28        0.150224    2.335915    0.424804    00:54                                          \n",
      "29        0.135128    2.399173    0.427609    00:54                                          \n",
      "30        0.125123    2.533545    0.419473    00:54                                          \n",
      "31        0.118533    2.479332    0.421857    00:54                                          \n",
      "32        0.116873    2.576132    0.425084    00:54                                          \n",
      "33        0.096892    2.604578    0.414562    00:54                                          \n",
      "34        0.090899    2.720634    0.421857    00:54                                          \n",
      "35        0.079671    2.760801    0.419052    00:54                                          \n",
      "36        0.075148    2.772168    0.418911    00:54                                          \n",
      "37        0.064834    2.785395    0.418070    00:54                                          \n",
      "38        0.064385    2.864581    0.416667    00:54                                          \n",
      "39        0.048541    2.827938    0.415264    00:54                                          \n",
      "40        0.056369    2.936721    0.418070    00:54                                          \n",
      "41        0.045240    2.921989    0.414282    00:54                                          \n",
      "42        0.046988    2.901553    0.415123    00:54                                          \n",
      "43        0.048677    2.896362    0.415825    00:54                                          \n",
      "44        0.039826    2.955992    0.415685    00:54                                          \n",
      "45        0.039407    2.942402    0.415404    00:54                                          \n",
      "46        0.041632    2.921999    0.414843    00:54                                          \n",
      "47        0.038033    2.952360    0.414703    00:54                                          \n",
      "48        0.037279    2.964267    0.416807    00:54                                          \n",
      "49        0.041742    2.946838    0.417649    00:54                                          \n",
      "[+] Predicting 7178 images...\n",
      "[+] Creating submission.csv...                                                  \n",
      "       file   emotion\n",
      "0  5740.png  Surprise\n",
      "1  1856.png       Sad\n",
      "2  3434.png      Fear\n",
      "3  1722.png  Surprise\n",
      "4  6762.png      Fear\n"
     ]
    },
    {
     "data": {
      "text/plain": [
       "0"
      ]
     },
     "execution_count": 2,
     "metadata": {},
     "output_type": "execute_result"
    }
   ],
   "source": [
    "os.system(\"./models/resnet34.py -e 50 -b 64 -l 1e-2\")"
   ]
  },
  {
   "cell_type": "code",
   "execution_count": 3,
   "metadata": {},
   "outputs": [
    {
     "name": "stdout",
     "output_type": "stream",
     "text": [
      "Args: Namespace(epochs=50, batch_size=64, learning_rate=0.01)\n",
      "[+] Dataloader vocab: ['Angry', 'Disgust', 'Fear', 'Happy', 'Neutral', 'Sad', 'Surprise']\n",
      "[+] Fine tuning...\n",
      "lr_find (min, steep, valley, slide): 0.010000000149011612 1.4454397387453355e-05 0.005248074419796467 0.0063095735386013985\n",
      "epoch     train_loss  valid_loss  error_rate  time    \n",
      "0         1.754700    1.569898    0.595960    01:04                                        \n",
      "epoch     train_loss  valid_loss  error_rate  time    \n",
      "0         1.414386    1.416767    0.535774    01:20                                         \n",
      "1         1.339175    1.335520    0.510382    01:20                                         \n",
      "2         1.276737    1.307832    0.496633    01:20                                         \n",
      "3         1.218180    1.273182    0.479097    01:21                                         \n",
      "4         1.163538    1.257708    0.473064    01:21                                         \n",
      "5         1.112124    1.260721    0.467733    01:21                                         \n",
      "6         1.051328    1.234552    0.458894    01:22                                         \n",
      "7         1.035827    1.205777    0.448653    01:22                                         \n",
      "8         0.986468    1.224925    0.447952    01:22                                         \n",
      "9         0.947719    1.273435    0.464085    01:23                                          \n",
      "10        0.906661    1.222690    0.444585    01:23                                          \n",
      "11        0.900862    1.235914    0.444024    01:22                                          \n",
      "12        0.842895    1.208690    0.442200    01:22                                          \n",
      "13        0.793971    1.207040    0.439955    01:22                                          \n",
      "14        0.723079    1.236046    0.430135    01:21                                          \n",
      "15        0.655505    1.266617    0.431538    01:21                                          \n",
      "16        0.633798    1.291251    0.413019    01:21                                          \n",
      "17        0.570761    1.312352    0.417929    01:21                                          \n",
      "18        0.489075    1.371471    0.410213    01:21                                          \n",
      "19        0.481390    1.437586    0.423822    01:21                                          \n",
      "20        0.414874    1.428435    0.415965    01:21                                          \n",
      "21        0.393480    1.582215    0.416947    01:21                                          \n",
      "22        0.357611    1.708679    0.430976    01:21                                          \n",
      "23        0.341275    1.570113    0.420314    01:21                                          \n",
      "24        0.291523    1.733805    0.413019    01:21                                          \n",
      "25        0.273330    1.636525    0.408109    01:21                                          \n",
      "26        0.231987    1.725046    0.402918    01:21                                          \n",
      "27        0.221097    1.832761    0.417508    01:21                                          \n",
      "28        0.197268    1.874950    0.407548    01:21                                          \n",
      "29        0.177994    1.979811    0.402076    01:21                                          \n",
      "30        0.181630    2.073430    0.403900    01:21                                          \n",
      "31        0.160881    1.978178    0.414141    01:21                                          \n",
      "32        0.120304    2.102727    0.401375    01:21                                          \n",
      "33        0.112431    2.114181    0.398008    01:21                                          \n",
      "34        0.115477    2.112959    0.394220    01:21                                          \n",
      "35        0.102460    2.211488    0.397447    01:21                                          \n",
      "36        0.085502    2.212667    0.398709    01:21                                          \n",
      "37        0.087853    2.208176    0.393519    01:21                                          \n",
      "38        0.075426    2.206641    0.389871    01:21                                          \n",
      "39        0.069030    2.231763    0.394360    01:21                                          \n",
      "40        0.060130    2.299328    0.396886    01:21                                          \n",
      "41        0.057919    2.314949    0.393378    01:21                                          \n",
      "42        0.056247    2.359037    0.393519    01:21                                          \n",
      "43        0.052402    2.300471    0.392256    01:21                                          \n",
      "44        0.046610    2.366788    0.390993    01:21                                          \n",
      "45        0.044301    2.390110    0.388889    01:21                                          \n",
      "46        0.040325    2.387886    0.392957    01:21                                          \n",
      "47        0.042723    2.337072    0.392817    01:21                                          \n",
      "48        0.038170    2.342936    0.392957    01:21                                          \n",
      "49        0.039253    2.348132    0.393519    01:21                                          \n",
      "[+] Predicting 7178 images...\n",
      "[+] Creating submission.csv...                                                  \n",
      "       file   emotion\n",
      "0  5740.png  Surprise\n",
      "1  1856.png      Fear\n",
      "2  3434.png      Fear\n",
      "3  1722.png  Surprise\n",
      "4  6762.png      Fear\n"
     ]
    },
    {
     "data": {
      "text/plain": [
       "0"
      ]
     },
     "execution_count": 3,
     "metadata": {},
     "output_type": "execute_result"
    }
   ],
   "source": [
    "os.system(\"./models/resnet50.py -e 50 -b 64 -l 1e-2\")"
   ]
  },
  {
   "cell_type": "code",
   "execution_count": 4,
   "metadata": {},
   "outputs": [
    {
     "name": "stdout",
     "output_type": "stream",
     "text": [
      "Args: Namespace(epochs=50, batch_size=64, learning_rate=0.01)\n",
      "[+] Dataloader vocab: ['Angry', 'Disgust', 'Fear', 'Happy', 'Neutral', 'Sad', 'Surprise']\n",
      "[+] Fine tuning...\n",
      "lr_find (min, steep, valley, slide): 0.006918309628963471 6.309573450380412e-07 0.00363078061491251 0.0030199517495930195\n",
      "epoch     train_loss  valid_loss  error_rate  time    \n",
      "0         1.765130    1.562346    0.602273    01:41                                        \n",
      "epoch     train_loss  valid_loss  error_rate  time    \n",
      "0         1.453450    1.418668    0.550224    02:12                                         \n",
      "1         1.378925    1.373610    0.527918    02:13                                         \n",
      "2         1.290571    1.310482    0.496914    02:13                                         \n",
      "3         1.233203    1.281869    0.492144    02:13                                         \n",
      "4         1.170978    1.241428    0.474046    02:13                                         \n",
      "5         1.164734    1.249146    0.472082    02:13                                         \n",
      "6         1.097584    1.205541    0.455247    02:13                                         \n",
      "7         1.014791    1.219204    0.458754    02:13                                         \n",
      "8         0.990432    1.185924    0.441218    02:13                                         \n",
      "9         0.962651    1.185246    0.437570    02:13                                          \n",
      "10        0.967939    1.182387    0.428732    02:13                                          \n",
      "11        0.929213    1.131139    0.419052    02:13                                          \n",
      "12        0.883863    1.169607    0.424383    02:13                                          \n",
      "13        0.830455    1.210991    0.416246    02:13                                          \n",
      "14        0.745412    1.171883    0.406145    02:13                                          \n",
      "15        0.687708    1.185942    0.396184    02:13                                          \n",
      "16        0.658420    1.234710    0.397026    02:13                                          \n",
      "17        0.569675    1.259106    0.385662    02:13                                          \n",
      "18        0.522554    1.315902    0.404461    02:13                                          \n",
      "19        0.448796    1.384263    0.397727    02:13                                          \n",
      "20        0.430579    1.497820    0.380752    02:13                                          \n",
      "21        0.382377    1.520856    0.381594    02:13                                          \n",
      "22        0.325443    1.528117    0.389450    02:13                                          \n",
      "23        0.267034    1.744342    0.390432    02:12                                          \n",
      "24        0.266388    1.671690    0.382435    02:13                                          \n",
      "25        0.229426    1.705666    0.382015    02:13                                          \n",
      "26        0.226153    1.818133    0.381453    02:13                                          \n",
      "27        0.192091    1.839110    0.380051    02:13                                          \n",
      "28        0.172294    1.871653    0.379770    02:13                                          \n",
      "29        0.150903    1.984653    0.385101    02:13                                          \n",
      "30        0.141349    2.002101    0.381033    02:13                                          \n",
      "31        0.121986    2.133696    0.382155    02:13                                          \n",
      "32        0.108253    2.112621    0.378227    02:13                                          \n",
      "33        0.094787    2.136208    0.379630    02:13                                          \n",
      "34        0.085350    2.107370    0.379489    02:13                                          \n",
      "35        0.086919    2.232394    0.375421    02:13                                          \n",
      "36        0.075512    2.256249    0.373316    02:13                                          \n",
      "37        0.058655    2.365697    0.377806    02:13                                          \n",
      "38        0.058025    2.352546    0.376543    02:13                                          \n",
      "39        0.056770    2.379129    0.379489    02:13                                          \n",
      "40        0.050575    2.430296    0.371773    02:13                                          \n",
      "41        0.048551    2.440696    0.377806    02:13                                          \n",
      "42        0.034846    2.416986    0.370370    02:13                                          \n",
      "43        0.046890    2.416064    0.371914    02:13                                          \n",
      "44        0.030491    2.446654    0.373737    02:13                                          \n",
      "45        0.036768    2.428932    0.374719    02:13                                          \n",
      "46        0.031729    2.379218    0.371773    02:13                                          \n",
      "47        0.034529    2.400233    0.369809    02:13                                          \n",
      "48        0.034843    2.494755    0.372896    02:14                                          \n",
      "49        0.030721    2.487769    0.371212    02:14                                          \n",
      "[+] Predicting 7178 images...\n",
      "[+] Creating submission.csv...                                                  \n",
      "       file   emotion\n",
      "0  5740.png  Surprise\n",
      "1  1856.png       Sad\n",
      "2  3434.png      Fear\n",
      "3  1722.png     Angry\n",
      "4  6762.png      Fear\n"
     ]
    },
    {
     "data": {
      "text/plain": [
       "0"
      ]
     },
     "execution_count": 4,
     "metadata": {},
     "output_type": "execute_result"
    }
   ],
   "source": [
    "os.system(\"./models/resnet101.py -e 50 -b 64 -l 1e-2\")"
   ]
  },
  {
   "cell_type": "code",
   "execution_count": 5,
   "metadata": {},
   "outputs": [
    {
     "name": "stdout",
     "output_type": "stream",
     "text": [
      "Args: Namespace(epochs=50, batch_size=64, learning_rate=0.01)\n",
      "[+] Dataloader vocab: ['Angry', 'Disgust', 'Fear', 'Happy', 'Neutral', 'Sad', 'Surprise']\n",
      "[+] Fine tuning...\n",
      "Epoch 1/1 : |----------------------------------------| 0.00% [0/445 00:00<?]\r"
     ]
    },
    {
     "name": "stderr",
     "output_type": "stream",
     "text": [
      "Traceback (most recent call last):\n",
      "  File \"/data2/aryan/MMU/./models/vgg16.py\", line 88, in <module>\n",
      "    fine_tune(args.learning_rate, args.epochs, dls)\n",
      "  File \"/data2/aryan/MMU/./models/vgg16.py\", line 41, in fine_tune\n",
      "    lrs = learn.lr_find(suggest_funcs=(minimum, steep, valley, slide))\n",
      "  File \"/home/girish/miniconda3/envs/minerva/lib/python3.9/site-packages/fastai/callback/schedule.py\", line 293, in lr_find\n",
      "    with self.no_logging(): self.fit(n_epoch, cbs=cb)\n",
      "  File \"/home/girish/miniconda3/envs/minerva/lib/python3.9/site-packages/fastai/learner.py\", line 264, in fit\n",
      "    self._with_events(self._do_fit, 'fit', CancelFitException, self._end_cleanup)\n",
      "  File \"/home/girish/miniconda3/envs/minerva/lib/python3.9/site-packages/fastai/learner.py\", line 199, in _with_events\n",
      "    try: self(f'before_{event_type}');  f()\n",
      "  File \"/home/girish/miniconda3/envs/minerva/lib/python3.9/site-packages/fastai/learner.py\", line 253, in _do_fit\n",
      "    self._with_events(self._do_epoch, 'epoch', CancelEpochException)\n",
      "  File \"/home/girish/miniconda3/envs/minerva/lib/python3.9/site-packages/fastai/learner.py\", line 199, in _with_events\n",
      "    try: self(f'before_{event_type}');  f()\n",
      "  File \"/home/girish/miniconda3/envs/minerva/lib/python3.9/site-packages/fastai/learner.py\", line 247, in _do_epoch\n",
      "    self._do_epoch_train()\n",
      "  File \"/home/girish/miniconda3/envs/minerva/lib/python3.9/site-packages/fastai/learner.py\", line 239, in _do_epoch_train\n",
      "    self._with_events(self.all_batches, 'train', CancelTrainException)\n",
      "  File \"/home/girish/miniconda3/envs/minerva/lib/python3.9/site-packages/fastai/learner.py\", line 199, in _with_events\n",
      "    try: self(f'before_{event_type}');  f()\n",
      "  File \"/home/girish/miniconda3/envs/minerva/lib/python3.9/site-packages/fastai/learner.py\", line 205, in all_batches\n",
      "    for o in enumerate(self.dl): self.one_batch(*o)\n",
      "  File \"/home/girish/miniconda3/envs/minerva/lib/python3.9/site-packages/fastai/learner.py\", line 235, in one_batch\n",
      "    self._with_events(self._do_one_batch, 'batch', CancelBatchException)\n",
      "  File \"/home/girish/miniconda3/envs/minerva/lib/python3.9/site-packages/fastai/learner.py\", line 199, in _with_events\n",
      "    try: self(f'before_{event_type}');  f()\n",
      "  File \"/home/girish/miniconda3/envs/minerva/lib/python3.9/site-packages/fastai/learner.py\", line 216, in _do_one_batch\n",
      "    self.pred = self.model(*self.xb)\n",
      "  File \"/home/girish/miniconda3/envs/minerva/lib/python3.9/site-packages/torch/nn/modules/module.py\", line 1130, in _call_impl\n",
      "    return forward_call(*input, **kwargs)\n",
      "  File \"/home/girish/miniconda3/envs/minerva/lib/python3.9/site-packages/torch/nn/modules/container.py\", line 139, in forward\n",
      "    input = module(input)\n",
      "  File \"/home/girish/miniconda3/envs/minerva/lib/python3.9/site-packages/torch/nn/modules/module.py\", line 1130, in _call_impl\n",
      "    return forward_call(*input, **kwargs)\n",
      "  File \"/home/girish/miniconda3/envs/minerva/lib/python3.9/site-packages/torch/nn/modules/container.py\", line 139, in forward\n",
      "    input = module(input)\n",
      "  File \"/home/girish/miniconda3/envs/minerva/lib/python3.9/site-packages/torch/nn/modules/module.py\", line 1130, in _call_impl\n",
      "    return forward_call(*input, **kwargs)\n",
      "  File \"/home/girish/miniconda3/envs/minerva/lib/python3.9/site-packages/torch/nn/modules/batchnorm.py\", line 168, in forward\n",
      "    return F.batch_norm(\n",
      "  File \"/home/girish/miniconda3/envs/minerva/lib/python3.9/site-packages/torch/nn/functional.py\", line 2438, in batch_norm\n",
      "    return torch.batch_norm(\n",
      "RuntimeError: running_mean should contain 1024 elements not 8192\n"
     ]
    },
    {
     "data": {
      "text/plain": [
       "256"
      ]
     },
     "execution_count": 5,
     "metadata": {},
     "output_type": "execute_result"
    }
   ],
   "source": [
    "os.system(\"./models/vgg16.py -e 50 -b 64 -l 1e-2\")"
   ]
  },
  {
   "cell_type": "code",
   "execution_count": 6,
   "metadata": {},
   "outputs": [
    {
     "name": "stdout",
     "output_type": "stream",
     "text": [
      "Args: Namespace(epochs=50, batch_size=64, learning_rate=0.01)\n",
      "[+] Dataloader vocab: ['Angry', 'Disgust', 'Fear', 'Happy', 'Neutral', 'Sad', 'Surprise']\n",
      "[+] Fine tuning...\n",
      "Epoch 1/1 : |----------------------------------------| 0.00% [0/445 00:00<?]\r"
     ]
    },
    {
     "name": "stderr",
     "output_type": "stream",
     "text": [
      "Traceback (most recent call last):\n",
      "  File \"/data2/aryan/MMU/./models/vgg19.py\", line 88, in <module>\n",
      "    fine_tune(args.learning_rate, args.epochs, dls)\n",
      "  File \"/data2/aryan/MMU/./models/vgg19.py\", line 41, in fine_tune\n",
      "    lrs = learn.lr_find(suggest_funcs=(minimum, steep, valley, slide))\n",
      "  File \"/home/girish/miniconda3/envs/minerva/lib/python3.9/site-packages/fastai/callback/schedule.py\", line 293, in lr_find\n",
      "    with self.no_logging(): self.fit(n_epoch, cbs=cb)\n",
      "  File \"/home/girish/miniconda3/envs/minerva/lib/python3.9/site-packages/fastai/learner.py\", line 264, in fit\n",
      "    self._with_events(self._do_fit, 'fit', CancelFitException, self._end_cleanup)\n",
      "  File \"/home/girish/miniconda3/envs/minerva/lib/python3.9/site-packages/fastai/learner.py\", line 199, in _with_events\n",
      "    try: self(f'before_{event_type}');  f()\n",
      "  File \"/home/girish/miniconda3/envs/minerva/lib/python3.9/site-packages/fastai/learner.py\", line 253, in _do_fit\n",
      "    self._with_events(self._do_epoch, 'epoch', CancelEpochException)\n",
      "  File \"/home/girish/miniconda3/envs/minerva/lib/python3.9/site-packages/fastai/learner.py\", line 199, in _with_events\n",
      "    try: self(f'before_{event_type}');  f()\n",
      "  File \"/home/girish/miniconda3/envs/minerva/lib/python3.9/site-packages/fastai/learner.py\", line 247, in _do_epoch\n",
      "    self._do_epoch_train()\n",
      "  File \"/home/girish/miniconda3/envs/minerva/lib/python3.9/site-packages/fastai/learner.py\", line 239, in _do_epoch_train\n",
      "    self._with_events(self.all_batches, 'train', CancelTrainException)\n",
      "  File \"/home/girish/miniconda3/envs/minerva/lib/python3.9/site-packages/fastai/learner.py\", line 199, in _with_events\n",
      "    try: self(f'before_{event_type}');  f()\n",
      "  File \"/home/girish/miniconda3/envs/minerva/lib/python3.9/site-packages/fastai/learner.py\", line 205, in all_batches\n",
      "    for o in enumerate(self.dl): self.one_batch(*o)\n",
      "  File \"/home/girish/miniconda3/envs/minerva/lib/python3.9/site-packages/fastai/learner.py\", line 235, in one_batch\n",
      "    self._with_events(self._do_one_batch, 'batch', CancelBatchException)\n",
      "  File \"/home/girish/miniconda3/envs/minerva/lib/python3.9/site-packages/fastai/learner.py\", line 199, in _with_events\n",
      "    try: self(f'before_{event_type}');  f()\n",
      "  File \"/home/girish/miniconda3/envs/minerva/lib/python3.9/site-packages/fastai/learner.py\", line 216, in _do_one_batch\n",
      "    self.pred = self.model(*self.xb)\n",
      "  File \"/home/girish/miniconda3/envs/minerva/lib/python3.9/site-packages/torch/nn/modules/module.py\", line 1130, in _call_impl\n",
      "    return forward_call(*input, **kwargs)\n",
      "  File \"/home/girish/miniconda3/envs/minerva/lib/python3.9/site-packages/torch/nn/modules/container.py\", line 139, in forward\n",
      "    input = module(input)\n",
      "  File \"/home/girish/miniconda3/envs/minerva/lib/python3.9/site-packages/torch/nn/modules/module.py\", line 1130, in _call_impl\n",
      "    return forward_call(*input, **kwargs)\n",
      "  File \"/home/girish/miniconda3/envs/minerva/lib/python3.9/site-packages/torch/nn/modules/container.py\", line 139, in forward\n",
      "    input = module(input)\n",
      "  File \"/home/girish/miniconda3/envs/minerva/lib/python3.9/site-packages/torch/nn/modules/module.py\", line 1130, in _call_impl\n",
      "    return forward_call(*input, **kwargs)\n",
      "  File \"/home/girish/miniconda3/envs/minerva/lib/python3.9/site-packages/torch/nn/modules/batchnorm.py\", line 168, in forward\n",
      "    return F.batch_norm(\n",
      "  File \"/home/girish/miniconda3/envs/minerva/lib/python3.9/site-packages/torch/nn/functional.py\", line 2438, in batch_norm\n",
      "    return torch.batch_norm(\n",
      "RuntimeError: running_mean should contain 1024 elements not 8192\n"
     ]
    },
    {
     "data": {
      "text/plain": [
       "256"
      ]
     },
     "execution_count": 6,
     "metadata": {},
     "output_type": "execute_result"
    }
   ],
   "source": [
    "os.system(\"./models/vgg19.py -e 50 -b 64 -l 1e-2\")"
   ]
  },
  {
   "cell_type": "code",
   "execution_count": 7,
   "metadata": {},
   "outputs": [
    {
     "name": "stdout",
     "output_type": "stream",
     "text": [
      "Args: Namespace(epochs=50, batch_size=64, learning_rate=0.01)\n",
      "[+] Dataloader vocab: ['Angry', 'Disgust', 'Fear', 'Happy', 'Neutral', 'Sad', 'Surprise']\n",
      "[+] Fine tuning...\n",
      "lr_find (min, steep, valley, slide): 0.006918309628963471 1.0964781722577754e-06 0.001737800776027143 0.004365158267319202\n",
      "epoch     train_loss  valid_loss  error_rate  time    \n",
      "0         1.588593    1.378444    0.506734    01:05                                        \n",
      "epoch     train_loss  valid_loss  error_rate  time    \n",
      "0         1.127036    1.029438    0.390713    01:25                                         \n",
      "1         0.995359    0.965445    0.366723    01:26                                         \n",
      "2         0.837953    0.930814    0.351010    01:26                                         \n",
      "3         0.743450    0.956466    0.348625    01:26                                         \n",
      "4         0.639488    1.029343    0.346942    01:26                                         \n",
      "5         0.542930    1.077901    0.346661    01:26                                         \n",
      "6         0.450555    1.182622    0.359708    01:27                                         \n",
      "7         0.403533    1.282191    0.351852    01:27                                         \n",
      "8         0.361248    1.304993    0.352413    01:27                                         \n",
      "9         0.338363    1.421768    0.343996    01:27                                          \n",
      "10        0.327849    1.395421    0.346521    01:27                                          \n",
      "11        0.305046    1.328410    0.353956    01:27                                          \n",
      "12        0.269661    1.397341    0.342031    01:27                                          \n",
      "13        0.263026    1.426912    0.338664    01:27                                          \n",
      "14        0.228444    1.469113    0.350449    01:27                                          \n",
      "15        0.208740    1.491681    0.344136    01:27                                          \n",
      "16        0.174687    1.722350    0.343575    01:27                                          \n",
      "17        0.152827    1.628972    0.334175    01:27                                          \n",
      "18        0.133648    1.646339    0.335017    01:27                                          \n",
      "19        0.117681    1.649246    0.328002    01:27                                          \n",
      "20        0.115861    1.681780    0.326319    01:27                                          \n",
      "21        0.119885    1.783746    0.342031    01:27                                          \n",
      "22        0.086810    1.845870    0.332211    01:27                                          \n",
      "23        0.078261    1.793689    0.330247    01:26                                          \n",
      "24        0.076052    1.880959    0.329545    01:27                                          \n",
      "25        0.056955    1.989489    0.317901    01:27                                          \n",
      "26        0.058451    1.964404    0.323934    01:27                                          \n",
      "27        0.062815    1.991342    0.325477    01:27                                          \n",
      "28        0.050091    1.941567    0.316218    01:26                                          \n",
      "29        0.035765    2.070442    0.322671    01:26                                          \n",
      "30        0.042794    2.068184    0.317761    01:27                                          \n",
      "31        0.029171    2.254602    0.320426    01:26                                          \n",
      "32        0.031757    2.157493    0.319444    01:27                                          \n",
      "33        0.021983    2.272714    0.315236    01:27                                          \n",
      "34        0.015324    2.226820    0.313412    01:27                                          \n",
      "35        0.018459    2.241248    0.316358    01:27                                          \n",
      "36        0.015351    2.290792    0.312570    01:27                                          \n",
      "37        0.015491    2.430738    0.319725    01:27                                          \n",
      "38        0.012524    2.438923    0.316779    01:27                                          \n",
      "39        0.007749    2.438544    0.312570    01:27                                          \n",
      "40        0.008772    2.453256    0.313131    01:27                                          \n",
      "41        0.008666    2.446723    0.307941    01:26                                          \n",
      "42        0.006892    2.466030    0.306257    01:27                                          \n",
      "43        0.005314    2.507635    0.305415    01:27                                          \n",
      "44        0.003697    2.489279    0.307520    01:27                                          \n",
      "45        0.004595    2.474087    0.304574    01:26                                          \n",
      "46        0.004945    2.459741    0.305556    01:27                                          \n",
      "47        0.004648    2.478314    0.303872    01:26                                          \n",
      "48        0.003208    2.520935    0.302609    01:27                                          \n",
      "49        0.003413    2.472580    0.304293    01:27                                          \n",
      "[+] Predicting 7178 images...\n",
      "[+] Creating submission.csv...                                                  \n",
      "       file   emotion\n",
      "0  5740.png  Surprise\n",
      "1  1856.png       Sad\n",
      "2  3434.png      Fear\n",
      "3  1722.png     Happy\n",
      "4  6762.png      Fear\n"
     ]
    },
    {
     "data": {
      "text/plain": [
       "0"
      ]
     },
     "execution_count": 7,
     "metadata": {},
     "output_type": "execute_result"
    }
   ],
   "source": [
    "os.system(\"./models/visformer_small.py -e 50 -b 64 -l 1e-2\")"
   ]
  },
  {
   "cell_type": "code",
   "execution_count": 8,
   "metadata": {},
   "outputs": [
    {
     "name": "stdout",
     "output_type": "stream",
     "text": [
      "Args: Namespace(epochs=50, batch_size=64, learning_rate=0.01)\n",
      "[+] Dataloader vocab: ['Angry', 'Disgust', 'Fear', 'Happy', 'Neutral', 'Sad', 'Surprise']\n",
      "[+] Fine tuning...\n",
      "lr_find (min, steep, valley, slide): 0.004786301031708717 0.0014454397605732083 0.0010000000474974513 0.005248074419796467\n",
      "epoch     train_loss  valid_loss  error_rate  time    \n",
      "0         1.284964    1.079152    0.407828    02:48                                        \n",
      "epoch     train_loss  valid_loss  error_rate  time    \n",
      "0         0.924922    0.852197    0.322391    03:47                                         \n",
      "1         0.790567    0.834082    0.307800    03:49                                         \n",
      "2         0.646582    0.849240    0.300224    03:49                                         \n",
      "3         0.509604    0.935773    0.309063    03:49                                         \n",
      "4         0.409054    1.008663    0.301908    03:49                                         \n",
      "5         0.346989    1.216605    0.308923    03:48                                         \n",
      "6         0.306685    1.254726    0.310045    03:50                                         \n",
      "7         0.311219    1.364762    0.315937    03:50                                         \n",
      "8         0.302705    1.240543    0.299663    03:50                                         \n",
      "9         0.272181    1.275205    0.309203    03:49                                          \n",
      "10        0.269173    1.245330    0.312149    03:49                                          \n",
      "11        0.255638    1.383077    0.317901    03:49                                          \n",
      "12        0.227349    1.350680    0.316639    03:48                                          \n",
      "13        0.199785    1.305593    0.309203    03:48                                          \n",
      "14        0.181923    1.372331    0.308221    03:49                                          \n",
      "15        0.187950    1.251116    0.296156    03:48                                          \n",
      "16        0.157389    1.368643    0.301066    03:49                                          \n",
      "17        0.162167    1.324255    0.314113    03:49                                          \n",
      "18        0.123484    1.380166    0.302048    03:49                                          \n",
      "19        0.105810    1.527504    0.312009    03:48                                          \n",
      "20        0.120204    1.418846    0.303591    03:48                                          \n",
      "21        0.097204    1.549630    0.316919    03:48                                          \n",
      "22        0.095131    1.575396    0.338244    03:49                                          \n",
      "23        0.088990    1.671655    0.310185    03:48                                          \n",
      "24        0.065044    1.651336    0.296857    03:49                                          \n",
      "25        0.063112    1.582739    0.293771    03:47                                          \n",
      "26        0.061447    1.673050    0.293210    03:48                                          \n",
      "27        0.059823    1.615227    0.302890    03:49                                          \n",
      "28        0.048929    1.613515    0.295455    03:48                                          \n",
      "29        0.044307    1.644838    0.291246    03:48                                          \n",
      "30        0.036813    1.748759    0.291246    03:48                                          \n",
      "31        0.027051    1.866857    0.299242    03:48                                          \n",
      "32        0.027995    1.831095    0.295174    03:48                                          \n",
      "33        0.018651    1.888041    0.293350    03:49                                          \n",
      "34        0.016094    2.017217    0.281004    03:47                                          \n",
      "35        0.014427    1.914976    0.283951    03:48                                          \n",
      "36        0.014959    1.920355    0.285915    03:48                                          \n",
      "37        0.010864    2.076377    0.287739    03:49                                          \n",
      "38        0.007951    2.063923    0.279882    03:48                                          \n",
      "39        0.008646    2.102058    0.279882    03:49                                          \n",
      "40        0.014145    2.131612    0.279461    03:48                                          \n",
      "41        0.007010    2.159423    0.282548    03:47                                          \n",
      "42        0.005591    2.189220    0.274130    03:48                                          \n",
      "43        0.004824    2.161278    0.273569    03:48                                          \n",
      "44        0.006465    2.160343    0.274270    03:46                                          \n",
      "45        0.004301    2.176262    0.271886    03:47                                          \n",
      "46        0.004967    2.207093    0.273148    03:46                                          \n",
      "47        0.003991    2.203343    0.272727    03:47                                          \n",
      "48        0.003413    2.192117    0.273429    03:46                                          \n",
      "49        0.003649    2.204956    0.273429    03:47                                          \n",
      "[+] Predicting 7178 images...\n",
      "[+] Creating submission.csv...                                                  \n",
      "       file   emotion\n",
      "0  5740.png  Surprise\n",
      "1  1856.png       Sad\n",
      "2  3434.png      Fear\n",
      "3  1722.png     Angry\n",
      "4  6762.png      Fear\n"
     ]
    },
    {
     "data": {
      "text/plain": [
       "0"
      ]
     },
     "execution_count": 8,
     "metadata": {},
     "output_type": "execute_result"
    }
   ],
   "source": [
    "os.system(\"./models/vit_base_patch16_224.py -e 50 -b 64 -l 1e-2\")"
   ]
  },
  {
   "cell_type": "code",
   "execution_count": 9,
   "metadata": {},
   "outputs": [
    {
     "name": "stdout",
     "output_type": "stream",
     "text": [
      "Args: Namespace(epochs=50, batch_size=64, learning_rate=0.01)\n",
      "[+] Dataloader vocab: ['Angry', 'Disgust', 'Fear', 'Happy', 'Neutral', 'Sad', 'Surprise']\n",
      "[+] Fine tuning...\n",
      "lr_find (min, steep, valley, slide): 0.004786301031708717 0.0012022644514217973 0.0012022644514217973 0.0012022644514217973\n",
      "epoch     train_loss  valid_loss  error_rate  time    \n",
      "0         1.238997    1.035636    0.383698    03:15                                        \n",
      "epoch     train_loss  valid_loss  error_rate  time    \n",
      "0         0.931199    0.844073    0.316077    05:00                                         \n",
      "1         0.792854    0.816064    0.305415    05:00                                         \n",
      "2         0.653077    0.811004    0.289422    05:00                                         \n",
      "3         0.516681    0.868164    0.290965    05:01                                         \n",
      "4         0.425082    0.964795    0.286055    05:00                                         \n",
      "5         0.337559    1.249225    0.325196    05:00                                         \n",
      "6         0.298562    1.188414    0.301627    04:59                                         \n",
      "7         0.276255    1.277015    0.307941    04:59                                         \n",
      "8         0.259950    1.256497    0.292228    05:00                                         \n",
      "9         0.222247    1.444238    0.302048    05:00                                          \n",
      "10        0.228422    1.404680    0.301627    05:00                                          \n",
      "11        0.236845    1.325042    0.308642    05:00                                          \n",
      "12        0.195367    1.318765    0.312991    04:59                                          \n",
      "13        0.186949    1.276871    0.289703    05:00                                          \n",
      "14        0.152858    1.388358    0.281706    04:59                                          \n",
      "15        0.155977    1.376039    0.308081    05:00                                          \n",
      "16        0.132290    1.318898    0.299663    05:00                                          \n",
      "17        0.107343    1.558439    0.298541    05:00                                          \n",
      "18        0.105512    1.606671    0.307800    05:00                                          \n",
      "19        0.094128    1.559131    0.298681    05:00                                          \n",
      "20        0.094365    1.610471    0.297699    05:00                                          \n",
      "21        0.079699    1.677812    0.311728    04:59                                          \n",
      "22        0.073771    1.530666    0.298541    04:59                                          \n",
      "23        0.082281    1.611182    0.287739    05:00                                          \n",
      "24        0.055562    1.757980    0.296156    05:00                                          \n",
      "25        0.064855    1.641480    0.286476    05:00                                          \n",
      "26        0.050494    1.638768    0.287879    05:00                                          \n",
      "27        0.047085    1.751513    0.284652    05:00                                          \n",
      "28        0.048165    1.602230    0.279882    05:00                                          \n",
      "29        0.028103    1.760839    0.285073    05:00                                          \n",
      "30        0.031763    1.833658    0.285494    04:59                                          \n",
      "31        0.029116    1.872570    0.288721    05:00                                          \n",
      "32        0.032145    1.801813    0.279602    05:00                                          \n",
      "33        0.022713    1.860453    0.283109    05:00                                          \n",
      "34        0.024353    1.890887    0.279882    05:00                                          \n",
      "35        0.021822    1.767427    0.282548    05:00                                          \n",
      "36        0.012745    1.953777    0.274691    05:00                                          \n",
      "37        0.013162    2.069220    0.277357    04:59                                          \n",
      "38        0.009759    2.003684    0.271184    05:00                                          \n",
      "39        0.007419    2.092139    0.272587    05:00                                          \n",
      "40        0.006197    2.107535    0.269921    05:00                                          \n",
      "41        0.007762    2.107325    0.269220    05:00                                          \n",
      "42        0.003892    2.171440    0.269921    05:00                                          \n",
      "43        0.005922    2.161866    0.268378    05:00                                          \n",
      "44        0.004445    2.188194    0.267677    05:00                                          \n",
      "45        0.004206    2.199885    0.268659    05:00                                          \n",
      "46        0.004815    2.211955    0.266835    05:00                                          \n",
      "47        0.003239    2.200072    0.265993    05:00                                          \n",
      "48        0.004047    2.217325    0.268098    05:00                                          \n",
      "49        0.004096    2.221360    0.266835    05:00                                          \n",
      "[+] Predicting 7178 images...\n",
      "[+] Creating submission.csv...                                                  \n",
      "       file   emotion\n",
      "0  5740.png  Surprise\n",
      "1  1856.png       Sad\n",
      "2  3434.png       Sad\n",
      "3  1722.png      Fear\n",
      "4  6762.png      Fear\n"
     ]
    },
    {
     "data": {
      "text/plain": [
       "0"
      ]
     },
     "execution_count": 9,
     "metadata": {},
     "output_type": "execute_result"
    }
   ],
   "source": [
    "os.system(\"./models/vit_base_r50_s16_224.py -e 50 -b 64 -l 1e-2\")"
   ]
  },
  {
   "cell_type": "markdown",
   "metadata": {},
   "source": [
    "# NOTE: All the model scripts are replaced by a single fast_baselines script."
   ]
  }
 ],
 "metadata": {
  "kernelspec": {
   "display_name": "minerva",
   "language": "python",
   "name": "python3"
  },
  "language_info": {
   "codemirror_mode": {
    "name": "ipython",
    "version": 3
   },
   "file_extension": ".py",
   "mimetype": "text/x-python",
   "name": "python",
   "nbconvert_exporter": "python",
   "pygments_lexer": "ipython3",
   "version": "3.9.17"
  },
  "orig_nbformat": 4
 },
 "nbformat": 4,
 "nbformat_minor": 2
}
